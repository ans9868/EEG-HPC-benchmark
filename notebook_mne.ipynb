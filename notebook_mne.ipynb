{
 "cells": [
  {
   "cell_type": "code",
   "execution_count": 3,
   "id": "8915c918",
   "metadata": {},
   "outputs": [
    {
     "name": "stdout",
     "output_type": "stream",
     "text": [
      "/ext3/pyspark/bin/python\n",
      "/ext3/pyspark/bin/pip\n"
     ]
    }
   ],
   "source": [
    "!which python\n",
    "!which pip"
   ]
  },
  {
   "cell_type": "code",
   "execution_count": 4,
   "id": "b841f1e9",
   "metadata": {},
   "outputs": [
    {
     "name": "stdout",
     "output_type": "stream",
     "text": [
      "Collecting psutil\n",
      "  Downloading psutil-7.0.0-cp36-abi3-manylinux_2_12_x86_64.manylinux2010_x86_64.manylinux_2_17_x86_64.manylinux2014_x86_64.whl (277 kB)\n",
      "\u001b[K     |████████████████████████████████| 277 kB 27.6 MB/s eta 0:00:01\n",
      "\u001b[?25hRequirement already satisfied: numpy in /ext3/pyspark/lib/python3.8/site-packages (1.21.2)\n",
      "Installing collected packages: psutil\n",
      "Successfully installed psutil-7.0.0\n"
     ]
    }
   ],
   "source": [
    "!pip install --user psutil numpy "
   ]
  },
  {
   "cell_type": "code",
   "execution_count": 7,
   "id": "9643ad2a",
   "metadata": {},
   "outputs": [
    {
     "name": "stdout",
     "output_type": "stream",
     "text": [
      "Requirement already satisfied: numpy in /home/ans9868/.local/lib/python3.8/site-packages (1.22.4)\n",
      "Requirement already satisfied: matplotlib in /home/ans9868/.local/lib/python3.8/site-packages (3.7.5)\n",
      "Requirement already satisfied: scipy in /ext3/pyspark/lib/python3.8/site-packages (1.7.1)\n",
      "Requirement already satisfied: numba in /home/ans9868/.local/lib/python3.8/site-packages (0.58.1)\n",
      "Requirement already satisfied: scikit-learn in /home/ans9868/.local/lib/python3.8/site-packages (1.3.2)\n",
      "Requirement already satisfied: mne in /home/ans9868/.local/lib/python3.8/site-packages (1.6.1)\n",
      "Requirement already satisfied: PyWavelets in /home/ans9868/.local/lib/python3.8/site-packages (1.4.1)\n",
      "Requirement already satisfied: pandas in /ext3/pyspark/lib/python3.8/site-packages (1.3.3)\n",
      "Requirement already satisfied: cycler>=0.10 in /ext3/pyspark/lib/python3.8/site-packages (from matplotlib) (0.10.0)\n",
      "Requirement already satisfied: importlib-resources>=3.2.0 in /home/ans9868/.local/lib/python3.8/site-packages (from matplotlib) (6.4.5)\n",
      "Requirement already satisfied: python-dateutil>=2.7 in /ext3/pyspark/lib/python3.8/site-packages (from matplotlib) (2.8.2)\n",
      "Requirement already satisfied: pillow>=6.2.0 in /ext3/pyspark/lib/python3.8/site-packages (from matplotlib) (8.3.2)\n",
      "Requirement already satisfied: contourpy>=1.0.1 in /home/ans9868/.local/lib/python3.8/site-packages (from matplotlib) (1.1.1)\n",
      "Requirement already satisfied: fonttools>=4.22.0 in /home/ans9868/.local/lib/python3.8/site-packages (from matplotlib) (4.57.0)\n",
      "Requirement already satisfied: kiwisolver>=1.0.1 in /ext3/pyspark/lib/python3.8/site-packages (from matplotlib) (1.3.2)\n",
      "Requirement already satisfied: packaging>=20.0 in /ext3/pyspark/lib/python3.8/site-packages (from matplotlib) (21.0)\n",
      "Requirement already satisfied: pyparsing>=2.3.1 in /ext3/pyspark/lib/python3.8/site-packages (from matplotlib) (2.4.7)\n",
      "Requirement already satisfied: importlib-metadata in /home/ans9868/.local/lib/python3.8/site-packages (from numba) (8.5.0)\n",
      "Requirement already satisfied: llvmlite<0.42,>=0.41.0dev0 in /home/ans9868/.local/lib/python3.8/site-packages (from numba) (0.41.1)\n",
      "Requirement already satisfied: threadpoolctl>=2.0.0 in /home/ans9868/.local/lib/python3.8/site-packages (from scikit-learn) (3.5.0)\n",
      "Requirement already satisfied: joblib>=1.1.1 in /home/ans9868/.local/lib/python3.8/site-packages (from scikit-learn) (1.4.2)\n",
      "Requirement already satisfied: lazy-loader>=0.3 in /home/ans9868/.local/lib/python3.8/site-packages (from mne) (0.4)\n",
      "Requirement already satisfied: jinja2 in /ext3/pyspark/lib/python3.8/site-packages (from mne) (3.0.1)\n",
      "Requirement already satisfied: tqdm in /home/ans9868/.local/lib/python3.8/site-packages (from mne) (4.67.1)\n",
      "Requirement already satisfied: pooch>=1.5 in /home/ans9868/.local/lib/python3.8/site-packages (from mne) (1.8.2)\n",
      "Requirement already satisfied: decorator in /ext3/pyspark/lib/python3.8/site-packages (from mne) (5.1.0)\n",
      "Requirement already satisfied: pytz>=2017.3 in /ext3/pyspark/lib/python3.8/site-packages (from pandas) (2021.1)\n",
      "Requirement already satisfied: six in /ext3/pyspark/lib/python3.8/site-packages (from cycler>=0.10->matplotlib) (1.16.0)\n",
      "Requirement already satisfied: zipp>=3.1.0 in /home/ans9868/.local/lib/python3.8/site-packages (from importlib-resources>=3.2.0->matplotlib) (3.20.2)\n",
      "Requirement already satisfied: requests>=2.19.0 in /ext3/pyspark/lib/python3.8/site-packages (from pooch>=1.5->mne) (2.26.0)\n",
      "Requirement already satisfied: platformdirs>=2.5.0 in /home/ans9868/.local/lib/python3.8/site-packages (from pooch>=1.5->mne) (4.3.6)\n",
      "Requirement already satisfied: certifi>=2017.4.17 in /ext3/pyspark/lib/python3.8/site-packages (from requests>=2.19.0->pooch>=1.5->mne) (2021.5.30)\n",
      "Requirement already satisfied: urllib3<1.27,>=1.21.1 in /ext3/pyspark/lib/python3.8/site-packages (from requests>=2.19.0->pooch>=1.5->mne) (1.26.7)\n",
      "Requirement already satisfied: charset-normalizer~=2.0.0 in /ext3/pyspark/lib/python3.8/site-packages (from requests>=2.19.0->pooch>=1.5->mne) (2.0.6)\n",
      "Requirement already satisfied: idna<4,>=2.5 in /ext3/pyspark/lib/python3.8/site-packages (from requests>=2.19.0->pooch>=1.5->mne) (3.2)\n",
      "Requirement already satisfied: MarkupSafe>=2.0 in /ext3/pyspark/lib/python3.8/site-packages (from jinja2->mne) (2.0.1)\n"
     ]
    }
   ],
   "source": [
    "!pip install --user  numpy matplotlib scipy numba scikit-learn mne PyWavelets pandas"
   ]
  },
  {
   "cell_type": "code",
   "execution_count": 8,
   "id": "7db6e9f6",
   "metadata": {},
   "outputs": [
    {
     "name": "stdout",
     "output_type": "stream",
     "text": [
      "Collecting mne-features\n",
      "  Downloading mne_features-0.3-py3-none-any.whl (26 kB)\n",
      "Requirement already satisfied: numpy in /home/ans9868/.local/lib/python3.8/site-packages (from mne-features) (1.22.4)\n",
      "Requirement already satisfied: PyWavelets in /home/ans9868/.local/lib/python3.8/site-packages (from mne-features) (1.4.1)\n",
      "Requirement already satisfied: mne in /home/ans9868/.local/lib/python3.8/site-packages (from mne-features) (1.6.1)\n",
      "Requirement already satisfied: scikit-learn in /home/ans9868/.local/lib/python3.8/site-packages (from mne-features) (1.3.2)\n",
      "Requirement already satisfied: numba in /home/ans9868/.local/lib/python3.8/site-packages (from mne-features) (0.58.1)\n",
      "Requirement already satisfied: scipy in /ext3/pyspark/lib/python3.8/site-packages (from mne-features) (1.7.1)\n",
      "Requirement already satisfied: pandas in /ext3/pyspark/lib/python3.8/site-packages (from mne-features) (1.3.3)\n",
      "Requirement already satisfied: decorator in /ext3/pyspark/lib/python3.8/site-packages (from mne->mne-features) (5.1.0)\n",
      "Requirement already satisfied: matplotlib>=3.5.0 in /home/ans9868/.local/lib/python3.8/site-packages (from mne->mne-features) (3.7.5)\n",
      "Requirement already satisfied: lazy-loader>=0.3 in /home/ans9868/.local/lib/python3.8/site-packages (from mne->mne-features) (0.4)\n",
      "Requirement already satisfied: pooch>=1.5 in /home/ans9868/.local/lib/python3.8/site-packages (from mne->mne-features) (1.8.2)\n",
      "Requirement already satisfied: jinja2 in /ext3/pyspark/lib/python3.8/site-packages (from mne->mne-features) (3.0.1)\n",
      "Requirement already satisfied: packaging in /ext3/pyspark/lib/python3.8/site-packages (from mne->mne-features) (21.0)\n",
      "Requirement already satisfied: tqdm in /home/ans9868/.local/lib/python3.8/site-packages (from mne->mne-features) (4.67.1)\n",
      "Requirement already satisfied: importlib-resources>=5.10.2 in /home/ans9868/.local/lib/python3.8/site-packages (from mne->mne-features) (6.4.5)\n",
      "Requirement already satisfied: zipp>=3.1.0 in /home/ans9868/.local/lib/python3.8/site-packages (from importlib-resources>=5.10.2->mne->mne-features) (3.20.2)\n",
      "Requirement already satisfied: pyparsing>=2.3.1 in /ext3/pyspark/lib/python3.8/site-packages (from matplotlib>=3.5.0->mne->mne-features) (2.4.7)\n",
      "Requirement already satisfied: contourpy>=1.0.1 in /home/ans9868/.local/lib/python3.8/site-packages (from matplotlib>=3.5.0->mne->mne-features) (1.1.1)\n",
      "Requirement already satisfied: cycler>=0.10 in /ext3/pyspark/lib/python3.8/site-packages (from matplotlib>=3.5.0->mne->mne-features) (0.10.0)\n",
      "Requirement already satisfied: kiwisolver>=1.0.1 in /ext3/pyspark/lib/python3.8/site-packages (from matplotlib>=3.5.0->mne->mne-features) (1.3.2)\n",
      "Requirement already satisfied: pillow>=6.2.0 in /ext3/pyspark/lib/python3.8/site-packages (from matplotlib>=3.5.0->mne->mne-features) (8.3.2)\n",
      "Requirement already satisfied: fonttools>=4.22.0 in /home/ans9868/.local/lib/python3.8/site-packages (from matplotlib>=3.5.0->mne->mne-features) (4.57.0)\n",
      "Requirement already satisfied: python-dateutil>=2.7 in /ext3/pyspark/lib/python3.8/site-packages (from matplotlib>=3.5.0->mne->mne-features) (2.8.2)\n",
      "Requirement already satisfied: six in /ext3/pyspark/lib/python3.8/site-packages (from cycler>=0.10->matplotlib>=3.5.0->mne->mne-features) (1.16.0)\n",
      "Requirement already satisfied: requests>=2.19.0 in /ext3/pyspark/lib/python3.8/site-packages (from pooch>=1.5->mne->mne-features) (2.26.0)\n",
      "Requirement already satisfied: platformdirs>=2.5.0 in /home/ans9868/.local/lib/python3.8/site-packages (from pooch>=1.5->mne->mne-features) (4.3.6)\n",
      "Requirement already satisfied: idna<4,>=2.5 in /ext3/pyspark/lib/python3.8/site-packages (from requests>=2.19.0->pooch>=1.5->mne->mne-features) (3.2)\n",
      "Requirement already satisfied: charset-normalizer~=2.0.0 in /ext3/pyspark/lib/python3.8/site-packages (from requests>=2.19.0->pooch>=1.5->mne->mne-features) (2.0.6)\n",
      "Requirement already satisfied: certifi>=2017.4.17 in /ext3/pyspark/lib/python3.8/site-packages (from requests>=2.19.0->pooch>=1.5->mne->mne-features) (2021.5.30)\n",
      "Requirement already satisfied: urllib3<1.27,>=1.21.1 in /ext3/pyspark/lib/python3.8/site-packages (from requests>=2.19.0->pooch>=1.5->mne->mne-features) (1.26.7)\n",
      "Requirement already satisfied: MarkupSafe>=2.0 in /ext3/pyspark/lib/python3.8/site-packages (from jinja2->mne->mne-features) (2.0.1)\n",
      "Requirement already satisfied: importlib-metadata in /home/ans9868/.local/lib/python3.8/site-packages (from numba->mne-features) (8.5.0)\n",
      "Requirement already satisfied: llvmlite<0.42,>=0.41.0dev0 in /home/ans9868/.local/lib/python3.8/site-packages (from numba->mne-features) (0.41.1)\n",
      "Requirement already satisfied: pytz>=2017.3 in /ext3/pyspark/lib/python3.8/site-packages (from pandas->mne-features) (2021.1)\n",
      "Requirement already satisfied: threadpoolctl>=2.0.0 in /home/ans9868/.local/lib/python3.8/site-packages (from scikit-learn->mne-features) (3.5.0)\n",
      "Requirement already satisfied: joblib>=1.1.1 in /home/ans9868/.local/lib/python3.8/site-packages (from scikit-learn->mne-features) (1.4.2)\n",
      "Installing collected packages: mne-features\n",
      "Successfully installed mne-features-0.3\n"
     ]
    }
   ],
   "source": [
    "!pip install --user  mne-features"
   ]
  },
  {
   "cell_type": "code",
   "execution_count": 11,
   "id": "9f056ca4",
   "metadata": {},
   "outputs": [
    {
     "name": "stdout",
     "output_type": "stream",
     "text": [
      "Collecting pyyaml\n",
      "  Downloading PyYAML-6.0.2-cp38-cp38-manylinux_2_17_x86_64.manylinux2014_x86_64.whl (746 kB)\n",
      "\u001b[K     |████████████████████████████████| 746 kB 20.2 MB/s eta 0:00:01\n",
      "\u001b[?25hInstalling collected packages: pyyaml\n",
      "Successfully installed pyyaml-6.0.2\n"
     ]
    }
   ],
   "source": [
    "!pip install --user pyyaml"
   ]
  },
  {
   "cell_type": "code",
   "execution_count": 19,
   "id": "3a7253e6",
   "metadata": {},
   "outputs": [
    {
     "name": "stdout",
     "output_type": "stream",
     "text": [
      "^C\r\n",
      "Traceback (most recent call last):\r\n",
      "  File \"/home/ans9868/.local/lib/python3.8/site-packages/llvmlite/ir/_utils.py\", line 46, in __str__\r\n",
      "    return self.__cached_str\r\n",
      "AttributeError: 'ExtractValue' object has no attribute '_StrCaching__cached_str'\r\n",
      "\r\n",
      "During handling of the above exception, another exception occurred:\r\n",
      "\r\n",
      "Traceback (most recent call last):\r\n",
      "  File \"mne_benchmark_runner.py\", line 4, in <module>\r\n",
      "    from mne_features.feature_extraction import FeatureExtractor\r\n",
      "  File \"/home/ans9868/.local/lib/python3.8/site-packages/mne_features/__init__.py\", line 21, in <module>\r\n",
      "    from . import univariate, bivariate, feature_extraction\r\n",
      "  File \"/home/ans9868/.local/lib/python3.8/site-packages/mne_features/univariate.py\", line 1563, in <module>\r\n",
      "    def _tk_energy(data):\r\n",
      "  File \"/home/ans9868/.local/lib/python3.8/site-packages/numba/core/decorators.py\", line 241, in wrapper\r\n",
      "    disp.compile(sig)\r\n",
      "  File \"/home/ans9868/.local/lib/python3.8/site-packages/numba/core/dispatcher.py\", line 965, in compile\r\n",
      "    cres = self._compiler.compile(args, return_type)\r\n",
      "  File \"/home/ans9868/.local/lib/python3.8/site-packages/numba/core/dispatcher.py\", line 125, in compile\r\n",
      "    status, retval = self._compile_cached(args, return_type)\r\n",
      "  File \"/home/ans9868/.local/lib/python3.8/site-packages/numba/core/dispatcher.py\", line 139, in _compile_cached\r\n",
      "    retval = self._compile_core(args, return_type)\r\n",
      "  File \"/home/ans9868/.local/lib/python3.8/site-packages/numba/core/dispatcher.py\", line 152, in _compile_core\r\n",
      "    cres = compiler.compile_extra(self.targetdescr.typing_context,\r\n",
      "  File \"/home/ans9868/.local/lib/python3.8/site-packages/numba/core/compiler.py\", line 770, in compile_extra\r\n",
      "    return pipeline.compile_extra(func)\r\n",
      "  File \"/home/ans9868/.local/lib/python3.8/site-packages/numba/core/compiler.py\", line 461, in compile_extra\r\n",
      "    return self._compile_bytecode()\r\n",
      "  File \"/home/ans9868/.local/lib/python3.8/site-packages/numba/core/compiler.py\", line 529, in _compile_bytecode\r\n",
      "    return self._compile_core()\r\n",
      "  File \"/home/ans9868/.local/lib/python3.8/site-packages/numba/core/compiler.py\", line 495, in _compile_core\r\n",
      "    pm.run(self.state)\r\n",
      "  File \"/home/ans9868/.local/lib/python3.8/site-packages/numba/core/compiler_machinery.py\", line 356, in run\r\n",
      "    self._runPass(idx, pass_inst, state)\r\n",
      "  File \"/home/ans9868/.local/lib/python3.8/site-packages/numba/core/compiler_lock.py\", line 35, in _acquire_compile_lock\r\n",
      "    return func(*args, **kwargs)\r\n",
      "  File \"/home/ans9868/.local/lib/python3.8/site-packages/numba/core/compiler_machinery.py\", line 311, in _runPass\r\n",
      "    mutated |= check(pss.run_pass, internal_state)\r\n",
      "  File \"/home/ans9868/.local/lib/python3.8/site-packages/numba/core/compiler_machinery.py\", line 273, in check\r\n",
      "    mangled = func(compiler_state)\r\n",
      "  File \"/home/ans9868/.local/lib/python3.8/site-packages/numba/core/typed_passes.py\", line 110, in run_pass\r\n",
      "    typemap, return_type, calltypes, errs = type_inference_stage(\r\n",
      "  File \"/home/ans9868/.local/lib/python3.8/site-packages/numba/core/typed_passes.py\", line 91, in type_inference_stage\r\n",
      "    errs = infer.propagate(raise_errors=raise_errors)\r\n",
      "  File \"/home/ans9868/.local/lib/python3.8/site-packages/numba/core/typeinfer.py\", line 1078, in propagate\r\n",
      "    errors = self.constraints.propagate(self)\r\n",
      "  File \"/home/ans9868/.local/lib/python3.8/site-packages/numba/core/typeinfer.py\", line 155, in propagate\r\n",
      "    constraint(typeinfer)\r\n",
      "  File \"/home/ans9868/.local/lib/python3.8/site-packages/numba/core/typeinfer.py\", line 578, in __call__\r\n",
      "    self.resolve(typeinfer, typevars, fnty)\r\n",
      "  File \"/home/ans9868/.local/lib/python3.8/site-packages/numba/core/typeinfer.py\", line 601, in resolve\r\n",
      "    sig = typeinfer.resolve_call(fnty, pos_args, kw_args)\r\n",
      "  File \"/home/ans9868/.local/lib/python3.8/site-packages/numba/core/typeinfer.py\", line 1557, in resolve_call\r\n",
      "    return self.context.resolve_function_type(fnty, pos_args, kw_args)\r\n",
      "  File \"/home/ans9868/.local/lib/python3.8/site-packages/numba/core/typing/context.py\", line 196, in resolve_function_type\r\n",
      "    res = self._resolve_user_function_type(func, args, kws)\r\n",
      "  File \"/home/ans9868/.local/lib/python3.8/site-packages/numba/core/typing/context.py\", line 248, in _resolve_user_function_type\r\n",
      "    return func.get_call_type(self, args, kws)\r\n",
      "  File \"/home/ans9868/.local/lib/python3.8/site-packages/numba/core/types/functions.py\", line 308, in get_call_type\r\n",
      "    sig = temp.apply(nolitargs, nolitkws)\r\n",
      "  File \"/home/ans9868/.local/lib/python3.8/site-packages/numba/core/typing/templates.py\", line 351, in apply\r\n",
      "    sig = generic(args, kws)\r\n",
      "  File \"/home/ans9868/.local/lib/python3.8/site-packages/numba/core/typing/templates.py\", line 614, in generic\r\n",
      "    disp, new_args = self._get_impl(args, kws)\r\n",
      "  File \"/home/ans9868/.local/lib/python3.8/site-packages/numba/core/typing/templates.py\", line 713, in _get_impl\r\n",
      "    impl, args = self._build_impl(cache_key, args, kws)\r\n",
      "  File \"/home/ans9868/.local/lib/python3.8/site-packages/numba/core/typing/templates.py\", line 817, in _build_impl\r\n",
      "    disp_type.get_call_type(self.context, args, kws)\r\n",
      "  File \"/home/ans9868/.local/lib/python3.8/site-packages/numba/core/types/functions.py\", line 541, in get_call_type\r\n",
      "    self.dispatcher.get_call_template(args, kws)\r\n",
      "  File \"/home/ans9868/.local/lib/python3.8/site-packages/numba/core/dispatcher.py\", line 363, in get_call_template\r\n",
      "    self.compile(tuple(args))\r\n",
      "  File \"/home/ans9868/.local/lib/python3.8/site-packages/numba/core/dispatcher.py\", line 965, in compile\r\n",
      "    cres = self._compiler.compile(args, return_type)\r\n",
      "  File \"/home/ans9868/.local/lib/python3.8/site-packages/numba/core/dispatcher.py\", line 125, in compile\r\n",
      "    status, retval = self._compile_cached(args, return_type)\r\n",
      "  File \"/home/ans9868/.local/lib/python3.8/site-packages/numba/core/dispatcher.py\", line 139, in _compile_cached\r\n",
      "    retval = self._compile_core(args, return_type)\r\n",
      "  File \"/home/ans9868/.local/lib/python3.8/site-packages/numba/core/dispatcher.py\", line 152, in _compile_core\r\n",
      "    cres = compiler.compile_extra(self.targetdescr.typing_context,\r\n",
      "  File \"/home/ans9868/.local/lib/python3.8/site-packages/numba/core/compiler.py\", line 770, in compile_extra\r\n",
      "    return pipeline.compile_extra(func)\r\n",
      "  File \"/home/ans9868/.local/lib/python3.8/site-packages/numba/core/compiler.py\", line 461, in compile_extra\r\n",
      "    return self._compile_bytecode()\r\n",
      "  File \"/home/ans9868/.local/lib/python3.8/site-packages/numba/core/compiler.py\", line 529, in _compile_bytecode\r\n",
      "    return self._compile_core()\r\n",
      "  File \"/home/ans9868/.local/lib/python3.8/site-packages/numba/core/compiler.py\", line 495, in _compile_core\r\n",
      "    pm.run(self.state)\r\n",
      "  File \"/home/ans9868/.local/lib/python3.8/site-packages/numba/core/compiler_machinery.py\", line 356, in run\r\n",
      "    self._runPass(idx, pass_inst, state)\r\n",
      "  File \"/home/ans9868/.local/lib/python3.8/site-packages/numba/core/compiler_lock.py\", line 35, in _acquire_compile_lock\r\n",
      "    return func(*args, **kwargs)\r\n",
      "  File \"/home/ans9868/.local/lib/python3.8/site-packages/numba/core/compiler_machinery.py\", line 311, in _runPass\r\n",
      "    mutated |= check(pss.run_pass, internal_state)\r\n",
      "  File \"/home/ans9868/.local/lib/python3.8/site-packages/numba/core/compiler_machinery.py\", line 273, in check\r\n",
      "    mangled = func(compiler_state)\r\n",
      "  File \"/home/ans9868/.local/lib/python3.8/site-packages/numba/core/typed_passes.py\", line 481, in run_pass\r\n",
      "    lower.create_cfunc_wrapper()\r\n",
      "  File \"/home/ans9868/.local/lib/python3.8/site-packages/numba/core/lowering.py\", line 307, in create_cfunc_wrapper\r\n",
      "    self.context.create_cfunc_wrapper(self.library, self.fndesc,\r\n",
      "  File \"/home/ans9868/.local/lib/python3.8/site-packages/numba/core/cpu.py\", line 223, in create_cfunc_wrapper\r\n",
      "    library.add_ir_module(wrapper_module)\r\n",
      "  File \"/home/ans9868/.local/lib/python3.8/site-packages/numba/core/codegen.py\", line 726, in add_ir_module\r\n",
      "    ir = cgutils.normalize_ir_text(str(ir_module))\r\n",
      "  File \"/home/ans9868/.local/lib/python3.8/site-packages/llvmlite/ir/module.py\", line 242, in __repr__\r\n",
      "    lines += self._get_body_lines()\r\n",
      "  File \"/home/ans9868/.local/lib/python3.8/site-packages/llvmlite/ir/module.py\", line 212, in _get_body_lines\r\n",
      "    lines += [str(v) for v in self.globals.values()]\r\n",
      "  File \"/home/ans9868/.local/lib/python3.8/site-packages/llvmlite/ir/module.py\", line 212, in <listcomp>\r\n",
      "    lines += [str(v) for v in self.globals.values()]\r\n",
      "  File \"/home/ans9868/.local/lib/python3.8/site-packages/llvmlite/ir/values.py\", line 1015, in __str__\r\n",
      "    self.descr(buf)\r\n",
      "  File \"/home/ans9868/.local/lib/python3.8/site-packages/llvmlite/ir/values.py\", line 1010, in descr\r\n",
      "    self.descr_body(buf)\r\n",
      "  File \"/home/ans9868/.local/lib/python3.8/site-packages/llvmlite/ir/values.py\", line 1004, in descr_body\r\n",
      "    blk.descr(buf)\r\n",
      "  File \"/home/ans9868/.local/lib/python3.8/site-packages/llvmlite/ir/values.py\", line 1174, in descr\r\n",
      "    buf += [\"  {0}\\n\".format(instr) for instr in self.instructions]\r\n",
      "  File \"/home/ans9868/.local/lib/python3.8/site-packages/llvmlite/ir/values.py\", line 1174, in <listcomp>\r\n",
      "    buf += [\"  {0}\\n\".format(instr) for instr in self.instructions]\r\n",
      "  File \"/home/ans9868/.local/lib/python3.8/site-packages/llvmlite/ir/_utils.py\", line 48, in __str__\r\n",
      "    s = self.__cached_str = self._to_string()\r\n",
      "  File \"/home/ans9868/.local/lib/python3.8/site-packages/llvmlite/ir/values.py\", line 546, in _to_string\r\n",
      "    if not isinstance(self.type, types.VoidType):\r\n",
      "KeyboardInterrupt\r\n"
     ]
    },
    {
     "name": "stdout",
     "output_type": "stream",
     "text": [
      "CPU times: user 26.1 ms, sys: 6.2 ms, total: 32.3 ms\n",
      "Wall time: 5.99 s\n"
     ]
    }
   ],
   "source": [
    "%%time\n",
    "!python mne_benchmark_runner.py"
   ]
  },
  {
   "cell_type": "code",
   "execution_count": 28,
   "id": "6d528059",
   "metadata": {},
   "outputs": [
    {
     "name": "stdout",
     "output_type": "stream",
     "text": [
      "org.apache.spark.deploy.worker.Worker running as process 1299326.  Stop it first.\r\n"
     ]
    }
   ],
   "source": [
    "!$SPARK_HOME/sbin/start-worker.sh spark://cm001:13049"
   ]
  },
  {
   "cell_type": "code",
   "execution_count": 29,
   "id": "809bdc2f",
   "metadata": {},
   "outputs": [
    {
     "name": "stdout",
     "output_type": "stream",
     "text": [
      "COMMAND     PID    USER   FD   TYPE     DEVICE SIZE/OFF NODE NAME\r\n",
      "java    1299222 ans9868  336u  IPv6 2254858168      0t0  TCP cm001.hpc.nyu.edu:13049 (LISTEN)\r\n",
      "java    1299222 ans9868  352u  IPv6 2254855914      0t0  TCP cm001.hpc.nyu.edu:13049->cm002.hpc.nyu.edu:47552 (ESTABLISHED)\r\n",
      "java    1299222 ans9868  356u  IPv6 2254864865      0t0  TCP cm001.hpc.nyu.edu:13049->cm001.hpc.nyu.edu:48938 (ESTABLISHED)\r\n",
      "java    1299326 ans9868  382u  IPv6 2254882826      0t0  TCP cm001.hpc.nyu.edu:48938->cm001.hpc.nyu.edu:13049 (ESTABLISHED)\r\n"
     ]
    }
   ],
   "source": [
    "!lsof -i :13049"
   ]
  },
  {
   "cell_type": "code",
   "execution_count": 30,
   "id": "f1002184",
   "metadata": {
    "scrolled": false
   },
   "outputs": [
    {
     "name": "stdout",
     "output_type": "stream",
     "text": [
      "start\n",
      "Picked up _JAVA_OPTIONS: -Xmx12g -Xms4g\n",
      "Picked up _JAVA_OPTIONS: -Xmx12g -Xms4g\n",
      "WARNING: An illegal reflective access operation has occurred\n",
      "WARNING: Illegal reflective access by org.apache.spark.unsafe.Platform (file:/ext3/spark-3.1.2-bin-hadoop3.2/jars/spark-unsafe_2.12-3.1.2.jar) to constructor java.nio.DirectByteBuffer(long,int)\n",
      "WARNING: Please consider reporting this to the maintainers of org.apache.spark.unsafe.Platform\n",
      "WARNING: Use --illegal-access=warn to enable warnings of further illegal reflective access operations\n",
      "WARNING: All illegal access operations will be denied in a future release\n",
      "25/05/04 17:54:11 WARN NativeCodeLoader: Unable to load native-hadoop library for your platform... using builtin-java classes where applicable\n",
      "Using Spark's default log4j profile: org/apache/spark/log4j-defaults.properties\n",
      "Setting default log level to \"WARN\".\n",
      "To adjust logging level use sc.setLogLevel(newLevel). For SparkR, use setLogLevel(newLevel).\n",
      "New Spark session created successfully\n",
      "=== Spark Configuration & Runtime info ===\n",
      "App ID: app-20250504175412-0009\n",
      "Master: spark://cm001:13049\n",
      "Default Parallelism: 12\n",
      "Total Executors: 1\n",
      "spark.default.parallelism = 12\n",
      "spark.sql.execution.arrow.maxRecordsPerBatch = 500\n",
      "spark.executor.instances = 12\n",
      "spark.executor.extraJavaOptions = -XX:+UseG1GC -XX:+UseStringDeduplication\n",
      "spark.ui.port = 8931\n",
      "spark.sql.shuffle.partitions = 12\n",
      "spark.ui.killEnabled = false\n",
      "spark.driver.port = 37805\n",
      "spark.driver.memory = 6g\n",
      "spark.app.id = app-20250504175412-0009\n",
      "spark.serializer.objectStreamReset = 100\n",
      "spark.ui.proxyBase = /rnode/cm001.hpc.nyu.edu/8931\n",
      "spark.submit.deployMode = client\n",
      "spark.sql.execution.arrow.pyspark.enabled = true\n",
      "spark.driver.host = cm001.hpc.nyu.edu\n",
      "spark.master = spark://cm001:13049\n",
      "spark.executor.memory = 4g\n",
      "spark.ui.enabled = true\n",
      "spark.sql.warehouse.dir = file:/home/ans9868/EEG-HPC-benchmark/spark-warehouse\n",
      "spark.executor.id = driver\n",
      "spark.sql.autoBroadcastJoinThreshold = 20MB\n",
      "spark.app.startTime = 1746395651750\n",
      "spark.executorEnv.JAVA_HOME = /usr/lib/jvm/java-11-openjdk-amd64\n",
      "spark.rdd.compress = True\n",
      "spark.app.name = EEG_Analysis_HPC\n",
      "spark.submit.pyFiles = \n",
      "spark.executor.cores = 1\n",
      "spark.ui.showConsoleProgress = true\n",
      "=== Executor Memory Status ===\n",
      "Traceback (most recent call last):\n",
      "  File \"benchmark_runner.py\", line 204, in <module>\n",
      "    main()\n",
      "  File \"benchmark_runner.py\", line 89, in main\n",
      "    executor_status = spark.sparkContext._jsc.sc().getExecutorMemoryStatus().items()\n",
      "  File \"/ext3/pyspark/lib/python3.8/site-packages/py4j/java_gateway.py\", line 1304, in __call__\n",
      "    return_value = get_return_value(\n",
      "  File \"/ext3/pyspark/lib/python3.8/site-packages/pyspark/sql/utils.py\", line 111, in deco\n",
      "    return f(*a, **kw)\n",
      "  File \"/ext3/pyspark/lib/python3.8/site-packages/py4j/protocol.py\", line 330, in get_return_value\n",
      "    raise Py4JError(\n",
      "py4j.protocol.Py4JError: An error occurred while calling o163.items. Trace:\n",
      "py4j.Py4JException: Method items([]) does not exist\n",
      "\tat py4j.reflection.ReflectionEngine.getMethod(ReflectionEngine.java:318)\n",
      "\tat py4j.reflection.ReflectionEngine.getMethod(ReflectionEngine.java:326)\n",
      "\tat py4j.Gateway.invoke(Gateway.java:274)\n",
      "\tat py4j.commands.AbstractCommand.invokeMethod(AbstractCommand.java:132)\n",
      "\tat py4j.commands.CallCommand.execute(CallCommand.java:79)\n",
      "\tat py4j.GatewayConnection.run(GatewayConnection.java:238)\n",
      "\tat java.base/java.lang.Thread.run(Thread.java:829)\n",
      "\n",
      "\n",
      "CPU times: user 26.3 ms, sys: 6.26 ms, total: 32.5 ms\n",
      "Wall time: 3.7 s\n"
     ]
    }
   ],
   "source": [
    "%%time\n",
    "!python benchmark_runner.py"
   ]
  },
  {
   "cell_type": "code",
   "execution_count": null,
   "id": "894d8ef5",
   "metadata": {},
   "outputs": [],
   "source": []
  }
 ],
 "metadata": {
  "kernelspec": {
   "display_name": "Python 3 (ipykernel)",
   "language": "python",
   "name": "python3"
  },
  "language_info": {
   "codemirror_mode": {
    "name": "ipython",
    "version": 3
   },
   "file_extension": ".py",
   "mimetype": "text/x-python",
   "name": "python",
   "nbconvert_exporter": "python",
   "pygments_lexer": "ipython3",
   "version": "3.8.12"
  }
 },
 "nbformat": 4,
 "nbformat_minor": 5
}
