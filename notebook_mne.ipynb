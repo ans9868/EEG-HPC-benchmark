{
 "cells": [
  {
   "cell_type": "code",
   "execution_count": 3,
   "id": "0554dacd",
   "metadata": {},
   "outputs": [
    {
     "name": "stdout",
     "output_type": "stream",
     "text": [
      "/ext3/pyspark/bin/python\n",
      "/ext3/pyspark/bin/pip\n"
     ]
    }
   ],
   "source": [
    "!which python\n",
    "!which pip"
   ]
  },
  {
   "cell_type": "code",
   "execution_count": 4,
   "id": "f1727fee",
   "metadata": {},
   "outputs": [
    {
     "name": "stdout",
     "output_type": "stream",
     "text": [
      "Collecting psutil\n",
      "  Downloading psutil-7.0.0-cp36-abi3-manylinux_2_12_x86_64.manylinux2010_x86_64.manylinux_2_17_x86_64.manylinux2014_x86_64.whl (277 kB)\n",
      "\u001b[K     |████████████████████████████████| 277 kB 27.6 MB/s eta 0:00:01\n",
      "\u001b[?25hRequirement already satisfied: numpy in /ext3/pyspark/lib/python3.8/site-packages (1.21.2)\n",
      "Installing collected packages: psutil\n",
      "Successfully installed psutil-7.0.0\n"
     ]
    }
   ],
   "source": [
    "!pip install --user psutil numpy "
   ]
  },
  {
   "cell_type": "code",
   "execution_count": 7,
   "id": "bec1c2d0",
   "metadata": {},
   "outputs": [
    {
     "name": "stdout",
     "output_type": "stream",
     "text": [
      "Requirement already satisfied: numpy in /home/ans9868/.local/lib/python3.8/site-packages (1.22.4)\n",
      "Requirement already satisfied: matplotlib in /home/ans9868/.local/lib/python3.8/site-packages (3.7.5)\n",
      "Requirement already satisfied: scipy in /ext3/pyspark/lib/python3.8/site-packages (1.7.1)\n",
      "Requirement already satisfied: numba in /home/ans9868/.local/lib/python3.8/site-packages (0.58.1)\n",
      "Requirement already satisfied: scikit-learn in /home/ans9868/.local/lib/python3.8/site-packages (1.3.2)\n",
      "Requirement already satisfied: mne in /home/ans9868/.local/lib/python3.8/site-packages (1.6.1)\n",
      "Requirement already satisfied: PyWavelets in /home/ans9868/.local/lib/python3.8/site-packages (1.4.1)\n",
      "Requirement already satisfied: pandas in /ext3/pyspark/lib/python3.8/site-packages (1.3.3)\n",
      "Requirement already satisfied: cycler>=0.10 in /ext3/pyspark/lib/python3.8/site-packages (from matplotlib) (0.10.0)\n",
      "Requirement already satisfied: importlib-resources>=3.2.0 in /home/ans9868/.local/lib/python3.8/site-packages (from matplotlib) (6.4.5)\n",
      "Requirement already satisfied: python-dateutil>=2.7 in /ext3/pyspark/lib/python3.8/site-packages (from matplotlib) (2.8.2)\n",
      "Requirement already satisfied: pillow>=6.2.0 in /ext3/pyspark/lib/python3.8/site-packages (from matplotlib) (8.3.2)\n",
      "Requirement already satisfied: contourpy>=1.0.1 in /home/ans9868/.local/lib/python3.8/site-packages (from matplotlib) (1.1.1)\n",
      "Requirement already satisfied: fonttools>=4.22.0 in /home/ans9868/.local/lib/python3.8/site-packages (from matplotlib) (4.57.0)\n",
      "Requirement already satisfied: kiwisolver>=1.0.1 in /ext3/pyspark/lib/python3.8/site-packages (from matplotlib) (1.3.2)\n",
      "Requirement already satisfied: packaging>=20.0 in /ext3/pyspark/lib/python3.8/site-packages (from matplotlib) (21.0)\n",
      "Requirement already satisfied: pyparsing>=2.3.1 in /ext3/pyspark/lib/python3.8/site-packages (from matplotlib) (2.4.7)\n",
      "Requirement already satisfied: importlib-metadata in /home/ans9868/.local/lib/python3.8/site-packages (from numba) (8.5.0)\n",
      "Requirement already satisfied: llvmlite<0.42,>=0.41.0dev0 in /home/ans9868/.local/lib/python3.8/site-packages (from numba) (0.41.1)\n",
      "Requirement already satisfied: threadpoolctl>=2.0.0 in /home/ans9868/.local/lib/python3.8/site-packages (from scikit-learn) (3.5.0)\n",
      "Requirement already satisfied: joblib>=1.1.1 in /home/ans9868/.local/lib/python3.8/site-packages (from scikit-learn) (1.4.2)\n",
      "Requirement already satisfied: lazy-loader>=0.3 in /home/ans9868/.local/lib/python3.8/site-packages (from mne) (0.4)\n",
      "Requirement already satisfied: jinja2 in /ext3/pyspark/lib/python3.8/site-packages (from mne) (3.0.1)\n",
      "Requirement already satisfied: tqdm in /home/ans9868/.local/lib/python3.8/site-packages (from mne) (4.67.1)\n",
      "Requirement already satisfied: pooch>=1.5 in /home/ans9868/.local/lib/python3.8/site-packages (from mne) (1.8.2)\n",
      "Requirement already satisfied: decorator in /ext3/pyspark/lib/python3.8/site-packages (from mne) (5.1.0)\n",
      "Requirement already satisfied: pytz>=2017.3 in /ext3/pyspark/lib/python3.8/site-packages (from pandas) (2021.1)\n",
      "Requirement already satisfied: six in /ext3/pyspark/lib/python3.8/site-packages (from cycler>=0.10->matplotlib) (1.16.0)\n",
      "Requirement already satisfied: zipp>=3.1.0 in /home/ans9868/.local/lib/python3.8/site-packages (from importlib-resources>=3.2.0->matplotlib) (3.20.2)\n",
      "Requirement already satisfied: requests>=2.19.0 in /ext3/pyspark/lib/python3.8/site-packages (from pooch>=1.5->mne) (2.26.0)\n",
      "Requirement already satisfied: platformdirs>=2.5.0 in /home/ans9868/.local/lib/python3.8/site-packages (from pooch>=1.5->mne) (4.3.6)\n",
      "Requirement already satisfied: certifi>=2017.4.17 in /ext3/pyspark/lib/python3.8/site-packages (from requests>=2.19.0->pooch>=1.5->mne) (2021.5.30)\n",
      "Requirement already satisfied: urllib3<1.27,>=1.21.1 in /ext3/pyspark/lib/python3.8/site-packages (from requests>=2.19.0->pooch>=1.5->mne) (1.26.7)\n",
      "Requirement already satisfied: charset-normalizer~=2.0.0 in /ext3/pyspark/lib/python3.8/site-packages (from requests>=2.19.0->pooch>=1.5->mne) (2.0.6)\n",
      "Requirement already satisfied: idna<4,>=2.5 in /ext3/pyspark/lib/python3.8/site-packages (from requests>=2.19.0->pooch>=1.5->mne) (3.2)\n",
      "Requirement already satisfied: MarkupSafe>=2.0 in /ext3/pyspark/lib/python3.8/site-packages (from jinja2->mne) (2.0.1)\n"
     ]
    }
   ],
   "source": [
    "!pip install --user  numpy matplotlib scipy numba scikit-learn mne PyWavelets pandas"
   ]
  },
  {
   "cell_type": "code",
   "execution_count": 8,
   "id": "8fe00508",
   "metadata": {},
   "outputs": [
    {
     "name": "stdout",
     "output_type": "stream",
     "text": [
      "Collecting mne-features\n",
      "  Downloading mne_features-0.3-py3-none-any.whl (26 kB)\n",
      "Requirement already satisfied: numpy in /home/ans9868/.local/lib/python3.8/site-packages (from mne-features) (1.22.4)\n",
      "Requirement already satisfied: PyWavelets in /home/ans9868/.local/lib/python3.8/site-packages (from mne-features) (1.4.1)\n",
      "Requirement already satisfied: mne in /home/ans9868/.local/lib/python3.8/site-packages (from mne-features) (1.6.1)\n",
      "Requirement already satisfied: scikit-learn in /home/ans9868/.local/lib/python3.8/site-packages (from mne-features) (1.3.2)\n",
      "Requirement already satisfied: numba in /home/ans9868/.local/lib/python3.8/site-packages (from mne-features) (0.58.1)\n",
      "Requirement already satisfied: scipy in /ext3/pyspark/lib/python3.8/site-packages (from mne-features) (1.7.1)\n",
      "Requirement already satisfied: pandas in /ext3/pyspark/lib/python3.8/site-packages (from mne-features) (1.3.3)\n",
      "Requirement already satisfied: decorator in /ext3/pyspark/lib/python3.8/site-packages (from mne->mne-features) (5.1.0)\n",
      "Requirement already satisfied: matplotlib>=3.5.0 in /home/ans9868/.local/lib/python3.8/site-packages (from mne->mne-features) (3.7.5)\n",
      "Requirement already satisfied: lazy-loader>=0.3 in /home/ans9868/.local/lib/python3.8/site-packages (from mne->mne-features) (0.4)\n",
      "Requirement already satisfied: pooch>=1.5 in /home/ans9868/.local/lib/python3.8/site-packages (from mne->mne-features) (1.8.2)\n",
      "Requirement already satisfied: jinja2 in /ext3/pyspark/lib/python3.8/site-packages (from mne->mne-features) (3.0.1)\n",
      "Requirement already satisfied: packaging in /ext3/pyspark/lib/python3.8/site-packages (from mne->mne-features) (21.0)\n",
      "Requirement already satisfied: tqdm in /home/ans9868/.local/lib/python3.8/site-packages (from mne->mne-features) (4.67.1)\n",
      "Requirement already satisfied: importlib-resources>=5.10.2 in /home/ans9868/.local/lib/python3.8/site-packages (from mne->mne-features) (6.4.5)\n",
      "Requirement already satisfied: zipp>=3.1.0 in /home/ans9868/.local/lib/python3.8/site-packages (from importlib-resources>=5.10.2->mne->mne-features) (3.20.2)\n",
      "Requirement already satisfied: pyparsing>=2.3.1 in /ext3/pyspark/lib/python3.8/site-packages (from matplotlib>=3.5.0->mne->mne-features) (2.4.7)\n",
      "Requirement already satisfied: contourpy>=1.0.1 in /home/ans9868/.local/lib/python3.8/site-packages (from matplotlib>=3.5.0->mne->mne-features) (1.1.1)\n",
      "Requirement already satisfied: cycler>=0.10 in /ext3/pyspark/lib/python3.8/site-packages (from matplotlib>=3.5.0->mne->mne-features) (0.10.0)\n",
      "Requirement already satisfied: kiwisolver>=1.0.1 in /ext3/pyspark/lib/python3.8/site-packages (from matplotlib>=3.5.0->mne->mne-features) (1.3.2)\n",
      "Requirement already satisfied: pillow>=6.2.0 in /ext3/pyspark/lib/python3.8/site-packages (from matplotlib>=3.5.0->mne->mne-features) (8.3.2)\n",
      "Requirement already satisfied: fonttools>=4.22.0 in /home/ans9868/.local/lib/python3.8/site-packages (from matplotlib>=3.5.0->mne->mne-features) (4.57.0)\n",
      "Requirement already satisfied: python-dateutil>=2.7 in /ext3/pyspark/lib/python3.8/site-packages (from matplotlib>=3.5.0->mne->mne-features) (2.8.2)\n",
      "Requirement already satisfied: six in /ext3/pyspark/lib/python3.8/site-packages (from cycler>=0.10->matplotlib>=3.5.0->mne->mne-features) (1.16.0)\n",
      "Requirement already satisfied: requests>=2.19.0 in /ext3/pyspark/lib/python3.8/site-packages (from pooch>=1.5->mne->mne-features) (2.26.0)\n",
      "Requirement already satisfied: platformdirs>=2.5.0 in /home/ans9868/.local/lib/python3.8/site-packages (from pooch>=1.5->mne->mne-features) (4.3.6)\n",
      "Requirement already satisfied: idna<4,>=2.5 in /ext3/pyspark/lib/python3.8/site-packages (from requests>=2.19.0->pooch>=1.5->mne->mne-features) (3.2)\n",
      "Requirement already satisfied: charset-normalizer~=2.0.0 in /ext3/pyspark/lib/python3.8/site-packages (from requests>=2.19.0->pooch>=1.5->mne->mne-features) (2.0.6)\n",
      "Requirement already satisfied: certifi>=2017.4.17 in /ext3/pyspark/lib/python3.8/site-packages (from requests>=2.19.0->pooch>=1.5->mne->mne-features) (2021.5.30)\n",
      "Requirement already satisfied: urllib3<1.27,>=1.21.1 in /ext3/pyspark/lib/python3.8/site-packages (from requests>=2.19.0->pooch>=1.5->mne->mne-features) (1.26.7)\n",
      "Requirement already satisfied: MarkupSafe>=2.0 in /ext3/pyspark/lib/python3.8/site-packages (from jinja2->mne->mne-features) (2.0.1)\n",
      "Requirement already satisfied: importlib-metadata in /home/ans9868/.local/lib/python3.8/site-packages (from numba->mne-features) (8.5.0)\n",
      "Requirement already satisfied: llvmlite<0.42,>=0.41.0dev0 in /home/ans9868/.local/lib/python3.8/site-packages (from numba->mne-features) (0.41.1)\n",
      "Requirement already satisfied: pytz>=2017.3 in /ext3/pyspark/lib/python3.8/site-packages (from pandas->mne-features) (2021.1)\n",
      "Requirement already satisfied: threadpoolctl>=2.0.0 in /home/ans9868/.local/lib/python3.8/site-packages (from scikit-learn->mne-features) (3.5.0)\n",
      "Requirement already satisfied: joblib>=1.1.1 in /home/ans9868/.local/lib/python3.8/site-packages (from scikit-learn->mne-features) (1.4.2)\n",
      "Installing collected packages: mne-features\n",
      "Successfully installed mne-features-0.3\n"
     ]
    }
   ],
   "source": [
    "!pip install --user  mne-features"
   ]
  },
  {
   "cell_type": "code",
   "execution_count": 11,
   "id": "6a8ee4e4",
   "metadata": {},
   "outputs": [
    {
     "name": "stdout",
     "output_type": "stream",
     "text": [
      "Collecting pyyaml\n",
      "  Downloading PyYAML-6.0.2-cp38-cp38-manylinux_2_17_x86_64.manylinux2014_x86_64.whl (746 kB)\n",
      "\u001b[K     |████████████████████████████████| 746 kB 20.2 MB/s eta 0:00:01\n",
      "\u001b[?25hInstalling collected packages: pyyaml\n",
      "Successfully installed pyyaml-6.0.2\n"
     ]
    }
   ],
   "source": [
    "!pip install --user pyyaml"
   ]
  },
  {
   "cell_type": "code",
   "execution_count": 12,
   "id": "b0a2ca8e",
   "metadata": {},
   "outputs": [
    {
     "name": "stdout",
     "output_type": "stream",
     "text": [
      "Config not found in feature_extraction.py\n",
      "start\n",
      "load_epochs, first subject path:  sub-001\n",
      "Processing subject sub-001\n",
      "processSub sub-001\n",
      "processSub: derivatives True\n",
      "processSub: windowLength 3\n",
      "processSub: windowLength 0.3\n",
      "subPath sub-001\n",
      "subPath data_path /Volumes/CrucialX6/Home/projects/EEG-HPC-benchmark\n",
      "Derivatives: True\n",
      "Derivatives from config: True\n",
      "Error processing subject sub-001: The path was not found for sub-001, path: /Volumes/CrucialX6/Home/projects/EEG-HPC-benchmark/ds004504/derivatives/sub-001/eeg/sub-001_task-eyesclosed_eeg.set\n",
      "Processing subject sub-002\n",
      "processSub sub-002\n",
      "processSub: derivatives True\n",
      "processSub: windowLength 3\n",
      "processSub: windowLength 0.3\n",
      "subPath sub-002\n",
      "subPath data_path /Volumes/CrucialX6/Home/projects/EEG-HPC-benchmark\n",
      "Derivatives: True\n",
      "Derivatives from config: True\n",
      "Error processing subject sub-002: The path was not found for sub-002, path: /Volumes/CrucialX6/Home/projects/EEG-HPC-benchmark/ds004504/derivatives/sub-002/eeg/sub-002_task-eyesclosed_eeg.set\n",
      "Processing subject sub-003\n",
      "processSub sub-003\n",
      "processSub: derivatives True\n",
      "processSub: windowLength 3\n",
      "processSub: windowLength 0.3\n",
      "subPath sub-003\n",
      "subPath data_path /Volumes/CrucialX6/Home/projects/EEG-HPC-benchmark\n",
      "Derivatives: True\n",
      "Derivatives from config: True\n",
      "Error processing subject sub-003: The path was not found for sub-003, path: /Volumes/CrucialX6/Home/projects/EEG-HPC-benchmark/ds004504/derivatives/sub-003/eeg/sub-003_task-eyesclosed_eeg.set\n",
      "Processing subject sub-004\n",
      "processSub sub-004\n",
      "processSub: derivatives True\n",
      "processSub: windowLength 3\n",
      "processSub: windowLength 0.3\n",
      "subPath sub-004\n",
      "subPath data_path /Volumes/CrucialX6/Home/projects/EEG-HPC-benchmark\n",
      "Derivatives: True\n",
      "Derivatives from config: True\n",
      "Error processing subject sub-004: The path was not found for sub-004, path: /Volumes/CrucialX6/Home/projects/EEG-HPC-benchmark/ds004504/derivatives/sub-004/eeg/sub-004_task-eyesclosed_eeg.set\n",
      "Processing subject sub-005\n",
      "processSub sub-005\n",
      "processSub: derivatives True\n",
      "processSub: windowLength 3\n",
      "processSub: windowLength 0.3\n",
      "subPath sub-005\n",
      "subPath data_path /Volumes/CrucialX6/Home/projects/EEG-HPC-benchmark\n",
      "Derivatives: True\n",
      "Derivatives from config: True\n",
      "Error processing subject sub-005: The path was not found for sub-005, path: /Volumes/CrucialX6/Home/projects/EEG-HPC-benchmark/ds004504/derivatives/sub-005/eeg/sub-005_task-eyesclosed_eeg.set\n",
      "Processing subject sub-006\n",
      "processSub sub-006\n",
      "processSub: derivatives True\n",
      "processSub: windowLength 3\n",
      "processSub: windowLength 0.3\n",
      "subPath sub-006\n",
      "subPath data_path /Volumes/CrucialX6/Home/projects/EEG-HPC-benchmark\n",
      "Derivatives: True\n",
      "Derivatives from config: True\n",
      "Error processing subject sub-006: The path was not found for sub-006, path: /Volumes/CrucialX6/Home/projects/EEG-HPC-benchmark/ds004504/derivatives/sub-006/eeg/sub-006_task-eyesclosed_eeg.set\n",
      "Processing subject sub-007\n",
      "processSub sub-007\n",
      "processSub: derivatives True\n",
      "processSub: windowLength 3\n",
      "processSub: windowLength 0.3\n",
      "subPath sub-007\n",
      "subPath data_path /Volumes/CrucialX6/Home/projects/EEG-HPC-benchmark\n",
      "Derivatives: True\n",
      "Derivatives from config: True\n",
      "Error processing subject sub-007: The path was not found for sub-007, path: /Volumes/CrucialX6/Home/projects/EEG-HPC-benchmark/ds004504/derivatives/sub-007/eeg/sub-007_task-eyesclosed_eeg.set\n",
      "Processing subject sub-008\n",
      "processSub sub-008\n",
      "processSub: derivatives True\n",
      "processSub: windowLength 3\n",
      "processSub: windowLength 0.3\n",
      "subPath sub-008\n",
      "subPath data_path /Volumes/CrucialX6/Home/projects/EEG-HPC-benchmark\n",
      "Derivatives: True\n",
      "Derivatives from config: True\n",
      "Error processing subject sub-008: The path was not found for sub-008, path: /Volumes/CrucialX6/Home/projects/EEG-HPC-benchmark/ds004504/derivatives/sub-008/eeg/sub-008_task-eyesclosed_eeg.set\n",
      "Processing subject sub-009\n",
      "processSub sub-009\n",
      "processSub: derivatives True\n",
      "processSub: windowLength 3\n",
      "processSub: windowLength 0.3\n",
      "subPath sub-009\n",
      "subPath data_path /Volumes/CrucialX6/Home/projects/EEG-HPC-benchmark\n",
      "Derivatives: True\n",
      "Derivatives from config: True\n",
      "Error processing subject sub-009: The path was not found for sub-009, path: /Volumes/CrucialX6/Home/projects/EEG-HPC-benchmark/ds004504/derivatives/sub-009/eeg/sub-009_task-eyesclosed_eeg.set\n",
      "Processing subject sub-010\n",
      "processSub sub-010\n",
      "processSub: derivatives True\n",
      "processSub: windowLength 3\n",
      "processSub: windowLength 0.3\n",
      "subPath sub-010\n",
      "subPath data_path /Volumes/CrucialX6/Home/projects/EEG-HPC-benchmark\n",
      "Derivatives: True\n",
      "Derivatives from config: True\n",
      "Error processing subject sub-010: The path was not found for sub-010, path: /Volumes/CrucialX6/Home/projects/EEG-HPC-benchmark/ds004504/derivatives/sub-010/eeg/sub-010_task-eyesclosed_eeg.set\n",
      "Traceback (most recent call last):\n",
      "  File \"mne_benchmark_runner.py\", line 135, in <module>\n",
      "    main()\n",
      "  File \"mne_benchmark_runner.py\", line 103, in main\n",
      "    X = load_epochs(subjects)\n",
      "  File \"/home/ans9868/EEG-HPC-benchmark/src/preprocess_sets.py\", line 180, in load_epochs\n",
      "    raise ValueError(\"No valid epochs data found for any subjects\")\n",
      "ValueError: No valid epochs data found for any subjects\n"
     ]
    }
   ],
   "source": [
    "!python mne_benchmark_runner.py"
   ]
  },
  {
   "cell_type": "code",
   "execution_count": null,
   "id": "ec7a0600",
   "metadata": {},
   "outputs": [],
   "source": []
  }
 ],
 "metadata": {
  "kernelspec": {
   "display_name": "Python 3 (ipykernel)",
   "language": "python",
   "name": "python3"
  },
  "language_info": {
   "codemirror_mode": {
    "name": "ipython",
    "version": 3
   },
   "file_extension": ".py",
   "mimetype": "text/x-python",
   "name": "python",
   "nbconvert_exporter": "python",
   "pygments_lexer": "ipython3",
   "version": "3.8.12"
  }
 },
 "nbformat": 4,
 "nbformat_minor": 5
}
